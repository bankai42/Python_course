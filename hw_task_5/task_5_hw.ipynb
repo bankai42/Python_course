{
 "cells": [
  {
   "cell_type": "code",
   "execution_count": 1,
   "metadata": {},
   "outputs": [],
   "source": [
    "import pandas as pd\n",
    "import numpy as np\n",
    "import string as s"
   ]
  },
  {
   "cell_type": "code",
   "execution_count": 2,
   "metadata": {},
   "outputs": [
    {
     "name": "stdout",
     "output_type": "stream",
     "text": [
      "   0  1  2  3  4  5  6  7  8  9\n",
      "0  9  7  8  8  8  6  9  6  6  7\n",
      "1  5  9  5  7  6  8  7  5  6  6\n",
      "2  8  8  9  5  7  7  7  5  9  5\n",
      "3  5  5  9  9  7  9  7  7  7  9\n",
      "4  7  7  5  6  6  9  9  6  8  7\n",
      "5  8  5  6  9  6  9  5  9  9  7\n",
      "6  5  9  9  8  6  8  5  9  6  5\n",
      "7  9  9  6  6  6  9  6  5  7  7\n",
      "8  7  5  7  9  6  8  5  8  5  6\n",
      "9  9  9  7  7  5  8  7  5  8  8\n",
      "[[9 7 8 8 8 6 9 6 6 7]\n",
      " [5 9 5 7 6 8 7 5 6 6]\n",
      " [8 8 9 5 7 7 7 5 9 5]\n",
      " [5 5 9 9 7 9 7 7 7 9]\n",
      " [7 7 5 6 6 9 9 6 8 7]\n",
      " [8 5 6 9 6 9 5 9 9 7]\n",
      " [5 9 9 8 6 8 5 9 6 5]\n",
      " [9 9 6 6 6 9 6 5 7 7]\n",
      " [7 5 7 9 6 8 5 8 5 6]\n",
      " [9 9 7 7 5 8 7 5 8 8]]\n"
     ]
    }
   ],
   "source": [
    "# Exersize 1\n",
    "mat = np.random.randint(5,10,size=(10,10))\n",
    "df = pd.DataFrame(mat)\n",
    "print(df)\n",
    "print(mat)"
   ]
  },
  {
   "cell_type": "code",
   "execution_count": 3,
   "metadata": {},
   "outputs": [
    {
     "name": "stdout",
     "output_type": "stream",
     "text": [
      "   0  1  2  3  4  5  6  7  8  9\n",
      "a  9  7  8  8  8  6  9  6  6  7\n",
      "b  5  9  5  7  6  8  7  5  6  6\n",
      "c  8  8  9  5  7  7  7  5  9  5\n",
      "d  5  5  9  9  7  9  7  7  7  9\n",
      "e  7  7  5  6  6  9  9  6  8  7\n",
      "f  8  5  6  9  6  9  5  9  9  7\n",
      "g  5  9  9  8  6  8  5  9  6  5\n",
      "h  9  9  6  6  6  9  6  5  7  7\n",
      "i  7  5  7  9  6  8  5  8  5  6\n",
      "j  9  9  7  7  5  8  7  5  8  8\n",
      "\n",
      "\n",
      "\n",
      "\n",
      "   0  1  2  3  4  5  6  7  8  9\n",
      "a  9  7  8  8  8  6  9  6  6  7\n"
     ]
    }
   ],
   "source": [
    "# Exersize 2\n",
    "new_index = dict(map(lambda i,j: (i,j), df.index.values, list(s.ascii_lowercase)[:10]))\n",
    "df.rename(new_index, inplace=True)\n",
    "print(df)\n",
    "print('\\n\\n\\n')\n",
    "print(df.loc[(df > 5).all(axis=1)] )"
   ]
  },
  {
   "cell_type": "code",
   "execution_count": 17,
   "metadata": {},
   "outputs": [
    {
     "name": "stdout",
     "output_type": "stream",
     "text": [
      "   a  b  c  d  e  f  g  h  i  j\n",
      "a  3  4  1  1  7  3  1  4  8  6\n",
      "b  9  4  8  9  3  6  9  4  5  1\n",
      "c  5  5  3  3  6  4  2  9  6  1\n",
      "d  6  3  6  5  1  8  5  5  3  4\n",
      "e  4  5  7  8  8  6  3  3  5  9\n",
      "f  5  6  8  9  3  2  6  3  1  3\n",
      "g  3  6  1  6  4  9  2  9  7  9\n",
      "h  1  6  6  4  1  6  2  7  4  7\n",
      "i  1  9  6  7  4  9  4  7  5  9\n",
      "j  5  1  7  7  9  9  5  7  8  4\n",
      "Size of DataFrame:\n",
      " (10, 10)       \n",
      "\n",
      "Columns:\n",
      "['a' 'b' 'c' 'd' 'e' 'f' 'g' 'h' 'i' 'j']       \n",
      "\n",
      " Average of all numbers: \n",
      "5.13\n"
     ]
    }
   ],
   "source": [
    "# Exersize 3\n",
    "\n",
    "mat = np.random.randint(1,10,size=(10,10))\n",
    "df = pd.DataFrame(mat)\n",
    "new_cols = dict(map(lambda i,j: (i,j), df.columns.values, list(s.ascii_lowercase)[:10]))\n",
    "new_indexes = dict(map(lambda i,j: (i,j), df.index.values, list(s.ascii_lowercase)[:10]))\n",
    "df.rename(new_cols, axis=1, inplace=True)\n",
    "df.rename(new_indexes, inplace=True)\n",
    "print(df)\n",
    "print(f\"Size of DataFrame:\\n {df.shape} \\\n",
    "      \\n\\nColumns:\\n{df.columns.values} \\\n",
    "      \\n\\n Average of all numbers: \\n{df.mean().mean()}\")\n",
    "\n",
    "df.to_csv(\"matrix_output.csv\", header=False, index=False)"
   ]
  },
  {
   "cell_type": "code",
   "execution_count": 45,
   "metadata": {},
   "outputs": [
    {
     "name": "stdout",
     "output_type": "stream",
     "text": [
      "             Hex  Rank Emoji  Year           Category          Subcategory  \\\n",
      "0      \\x{1F602}     1     😂  2010  Smileys & Emotion         face-smiling   \n",
      "1  \\x{2764 FE0F}     2    ❤️  2010  Smileys & Emotion              emotion   \n",
      "2      \\x{1F923}     3     🤣  2016  Smileys & Emotion         face-smiling   \n",
      "3      \\x{1F44D}     4     👍  2010      People & Body  hand-fingers-closed   \n",
      "4      \\x{1F62D}     5     😭  2010  Smileys & Emotion       face-concerned   \n",
      "\n",
      "                            Name  \n",
      "0         face with tears of joy  \n",
      "1                      red heart  \n",
      "2  rolling on the floor laughing  \n",
      "3                      thumbs up  \n",
      "4             loudly crying face  \n",
      "             Rank\n",
      "Subcategory      \n",
      "face-hat      175\n"
     ]
    }
   ],
   "source": [
    "# Exersize 4\n",
    "emoji_df = pd.read_csv(\"emojis.csv\")\n",
    "print(emoji_df.head(5))\n",
    "print(emoji_df.groupby(\"Subcategory\")[[\"Subcategory\", \"Rank\"]].sum(\"Rank\").sort_values(\"Rank\").head(1))"
   ]
  },
  {
   "cell_type": "code",
   "execution_count": 50,
   "metadata": {},
   "outputs": [
    {
     "name": "stdout",
     "output_type": "stream",
     "text": [
      "             Hex  Rank Emoji  Year           Category          Subcategory  \\\n",
      "0      \\x{1F602}     1     😂  2010  Smileys & Emotion         face-smiling   \n",
      "1  \\x{2764 FE0F}     2    ❤️  2010  Smileys & Emotion              emotion   \n",
      "2      \\x{1F923}     3     🤣  2016  Smileys & Emotion         face-smiling   \n",
      "3      \\x{1F44D}     4     👍  2010      People & Body  hand-fingers-closed   \n",
      "4      \\x{1F62D}     5     😭  2010  Smileys & Emotion       face-concerned   \n",
      "\n",
      "                            Name  \n",
      "0         face with tears of joy  \n",
      "1                      red heart  \n",
      "2  rolling on the floor laughing  \n",
      "3                      thumbs up  \n",
      "4             loudly crying face  \n",
      "Year\n",
      "2010    716\n",
      "2014    139\n",
      "2015    441\n",
      "2016    117\n",
      "2017     59\n",
      "2018     77\n",
      "Name: Year, dtype: int64\n"
     ]
    },
    {
     "data": {
      "image/png": "[encoded data removed]",
      "text/plain": [
       "<Figure size 640x480 with 1 Axes>"
      ]
     },
     "metadata": {},
     "output_type": "display_data"
    }
   ],
   "source": [
    "# Exersize 5\n",
    "import matplotlib.pyplot as plt\n",
    "\n",
    "emoji_df = pd.read_csv(\"emojis.csv\")\n",
    "print(emoji_df.head(5))\n",
    "print(emoji_df.groupby(\"Year\")[\"Year\"].count())\n",
    "emoji_df.groupby(\"Year\")[\"Year\"].count()\n",
    "\n",
    "plt.plot(emoji_df.groupby(\"Year\")[\"Year\"].count())\n",
    "plt.show()\n"
   ]
  },
  {
   "cell_type": "code",
   "execution_count": null,
   "metadata": {},
   "outputs": [],
   "source": [
    "# Exersize 6\n",
    "\n",
    "def get_category_freq(emoji_name):\n",
    "    "
   ]
  }
 ],
 "metadata": {
  "kernelspec": {
   "display_name": "Python 3",
   "language": "python",
   "name": "python3"
  },
  "language_info": {
   "codemirror_mode": {
    "name": "ipython",
    "version": 3
   },
   "file_extension": ".py",
   "mimetype": "text/x-python",
   "name": "python",
   "nbconvert_exporter": "python",
   "pygments_lexer": "ipython3",
   "version": "3.11.4"
  },
  "orig_nbformat": 4
 },
 "nbformat": 4,
 "nbformat_minor": 2
}
